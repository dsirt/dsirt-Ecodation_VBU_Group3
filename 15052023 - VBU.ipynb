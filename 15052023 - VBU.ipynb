{
 "cells": [
  {
   "cell_type": "code",
   "execution_count": 1,
   "id": "c48306fb",
   "metadata": {},
   "outputs": [],
   "source": [
    "import numpy as np"
   ]
  },
  {
   "cell_type": "code",
   "execution_count": 2,
   "id": "c0cf4de4",
   "metadata": {},
   "outputs": [],
   "source": [
    "import warnings \n",
    "warnings.filterwarnings('ignore')"
   ]
  },
  {
   "cell_type": "code",
   "execution_count": 3,
   "id": "31768a08",
   "metadata": {},
   "outputs": [],
   "source": [
    "#İki dizi arasındaki ortak elemanları bulma\n",
    "c1 = np.array([10,20,30,40,50,60])\n",
    "c2 = np.array([12,20,33,40,55,60])"
   ]
  },
  {
   "cell_type": "code",
   "execution_count": 4,
   "id": "4d983b84",
   "metadata": {},
   "outputs": [
    {
     "data": {
      "text/plain": [
       "array([20, 40, 60])"
      ]
     },
     "execution_count": 4,
     "metadata": {},
     "output_type": "execute_result"
    }
   ],
   "source": [
    "np.intersect1d(c1, c2)"
   ]
  },
  {
   "cell_type": "code",
   "execution_count": 5,
   "id": "67c9e6e8",
   "metadata": {},
   "outputs": [
    {
     "data": {
      "text/plain": [
       "array([10, 30, 50])"
      ]
     },
     "execution_count": 5,
     "metadata": {},
     "output_type": "execute_result"
    }
   ],
   "source": [
    "#Ortak elemanları çıkartma\n",
    "np.setdiff1d(c1, c2)"
   ]
  },
  {
   "cell_type": "code",
   "execution_count": 6,
   "id": "c76dc08b",
   "metadata": {},
   "outputs": [],
   "source": [
    "#Şarta Göre Elemanlar Üzerindeki İşlemler (where)"
   ]
  },
  {
   "cell_type": "code",
   "execution_count": 7,
   "id": "f84e700c",
   "metadata": {},
   "outputs": [],
   "source": [
    "a = np.array([1,2,3,6,8])\n",
    "b = np.array([10,2,30,60,8])"
   ]
  },
  {
   "cell_type": "code",
   "execution_count": 8,
   "id": "f9554833",
   "metadata": {},
   "outputs": [
    {
     "data": {
      "text/plain": [
       "(array([1, 4], dtype=int64),)"
      ]
     },
     "execution_count": 8,
     "metadata": {},
     "output_type": "execute_result"
    }
   ],
   "source": [
    "np.where(a == b)"
   ]
  },
  {
   "cell_type": "code",
   "execution_count": 9,
   "id": "0d243c4d",
   "metadata": {},
   "outputs": [
    {
     "data": {
      "text/plain": [
       "array([2, 8])"
      ]
     },
     "execution_count": 9,
     "metadata": {},
     "output_type": "execute_result"
    }
   ],
   "source": [
    "a[np.where(a == b)]"
   ]
  },
  {
   "cell_type": "code",
   "execution_count": 10,
   "id": "1bdeed35",
   "metadata": {},
   "outputs": [
    {
     "data": {
      "text/plain": [
       "array([21, 22, 23, 24, 25, 26, 27, 28, 29, 30, 31, 32, 33, 34])"
      ]
     },
     "execution_count": 10,
     "metadata": {},
     "output_type": "execute_result"
    }
   ],
   "source": [
    "a1 = np.arange(0, 60)\n",
    "a1[np.where((a1 > 20) & (a1 < 35))]"
   ]
  },
  {
   "cell_type": "code",
   "execution_count": 12,
   "id": "1c7bdce0",
   "metadata": {},
   "outputs": [
    {
     "data": {
      "text/plain": [
       "array([ 0, 10, 20, 21, 22, 23, 24, 25, 26, 27, 28, 29, 30, 31, 32, 33, 34,\n",
       "       40, 50])"
      ]
     },
     "execution_count": 12,
     "metadata": {},
     "output_type": "execute_result"
    }
   ],
   "source": [
    "#Ek olarak 10 ile bölünebilenleri de getirmek istersek:\n",
    "a1 = np.arange(0, 60)\n",
    "a1[np.where(((a1 > 20) & (a1 < 35)) | (a1 % 10 == 0))] "
   ]
  },
  {
   "cell_type": "code",
   "execution_count": 13,
   "id": "9071565a",
   "metadata": {},
   "outputs": [
    {
     "data": {
      "text/plain": [
       "array([21, 22, 23, 24, 25, 26, 27, 28, 29, 30, 31, 32, 33, 34])"
      ]
     },
     "execution_count": 13,
     "metadata": {},
     "output_type": "execute_result"
    }
   ],
   "source": [
    "a1[np.where(np.logical_and(a1 > 20, a1 < 35))]"
   ]
  },
  {
   "cell_type": "code",
   "execution_count": 14,
   "id": "a506c52c",
   "metadata": {},
   "outputs": [],
   "source": [
    "#isin() fonksiyonu"
   ]
  },
  {
   "cell_type": "code",
   "execution_count": 15,
   "id": "a3eaebaf",
   "metadata": {},
   "outputs": [
    {
     "data": {
      "text/plain": [
       "array([10, 20, 30, 40, 50, 60, 70])"
      ]
     },
     "execution_count": 15,
     "metadata": {},
     "output_type": "execute_result"
    }
   ],
   "source": [
    "a = np.array([10,20,30,40,50,60,70])\n",
    "a"
   ]
  },
  {
   "cell_type": "code",
   "execution_count": 18,
   "id": "c3aa9b14",
   "metadata": {},
   "outputs": [
    {
     "data": {
      "text/plain": [
       "array([False,  True, False, False, False, False, False])"
      ]
     },
     "execution_count": 18,
     "metadata": {},
     "output_type": "execute_result"
    }
   ],
   "source": [
    "np.isin(a, [11,20])"
   ]
  },
  {
   "cell_type": "code",
   "execution_count": 19,
   "id": "f6229ed8",
   "metadata": {},
   "outputs": [
    {
     "data": {
      "text/plain": [
       "array([20])"
      ]
     },
     "execution_count": 19,
     "metadata": {},
     "output_type": "execute_result"
    }
   ],
   "source": [
    "a[np.isin(a, 20)]"
   ]
  },
  {
   "cell_type": "code",
   "execution_count": 20,
   "id": "af862003",
   "metadata": {},
   "outputs": [
    {
     "data": {
      "text/plain": [
       "array([False, False, False, False, False, False, False])"
      ]
     },
     "execution_count": 20,
     "metadata": {},
     "output_type": "execute_result"
    }
   ],
   "source": [
    "np.isin(a, 33)"
   ]
  },
  {
   "cell_type": "code",
   "execution_count": 21,
   "id": "69ee3cad",
   "metadata": {},
   "outputs": [
    {
     "data": {
      "text/plain": [
       "array([], dtype=int32)"
      ]
     },
     "execution_count": 21,
     "metadata": {},
     "output_type": "execute_result"
    }
   ],
   "source": [
    "a[np.isin(a, 33)]"
   ]
  },
  {
   "cell_type": "code",
   "execution_count": 22,
   "id": "b037fb82",
   "metadata": {},
   "outputs": [],
   "source": [
    "#Diziyi Ters Çevirme (Reverse)"
   ]
  },
  {
   "cell_type": "code",
   "execution_count": 23,
   "id": "2714f96c",
   "metadata": {},
   "outputs": [
    {
     "data": {
      "text/plain": [
       "array([10, 11, 12, 13, 14, 15, 16, 17, 18, 19, 20, 21, 22, 23, 24, 25, 26,\n",
       "       27, 28, 29])"
      ]
     },
     "execution_count": 23,
     "metadata": {},
     "output_type": "execute_result"
    }
   ],
   "source": [
    "a4 = np.arange(10, 30)\n",
    "a4"
   ]
  },
  {
   "cell_type": "code",
   "execution_count": 24,
   "id": "69aa5e12",
   "metadata": {},
   "outputs": [
    {
     "data": {
      "text/plain": [
       "array([29, 28, 27, 26, 25, 24, 23, 22, 21, 20, 19, 18, 17, 16, 15, 14, 13,\n",
       "       12, 11, 10])"
      ]
     },
     "execution_count": 24,
     "metadata": {},
     "output_type": "execute_result"
    }
   ],
   "source": [
    "a4[::-1]"
   ]
  },
  {
   "cell_type": "code",
   "execution_count": 25,
   "id": "6bac0eb3",
   "metadata": {},
   "outputs": [
    {
     "data": {
      "text/plain": [
       "array([29, 28, 27, 26, 25, 24, 23, 22, 21, 20, 19, 18, 17, 16, 15, 14, 13,\n",
       "       12, 11, 10])"
      ]
     },
     "execution_count": 25,
     "metadata": {},
     "output_type": "execute_result"
    }
   ],
   "source": [
    "np.flip(a4)"
   ]
  },
  {
   "cell_type": "code",
   "execution_count": 26,
   "id": "d3f8c378",
   "metadata": {},
   "outputs": [
    {
     "data": {
      "text/plain": [
       "array([[ 3,  2,  8,  1],\n",
       "       [70, 50, 10, 67],\n",
       "       [45, 25, 75, 15],\n",
       "       [12,  9, 77,  4]])"
      ]
     },
     "execution_count": 26,
     "metadata": {},
     "output_type": "execute_result"
    }
   ],
   "source": [
    "a3 = np.array([[3,2,8,1], [70,50,10,67], [45,25,75,15], [12,9,77,4]])\n",
    "a3"
   ]
  },
  {
   "cell_type": "code",
   "execution_count": 27,
   "id": "8f8b1ab1",
   "metadata": {},
   "outputs": [
    {
     "data": {
      "text/plain": [
       "array([[12,  9, 77,  4],\n",
       "       [45, 25, 75, 15],\n",
       "       [70, 50, 10, 67],\n",
       "       [ 3,  2,  8,  1]])"
      ]
     },
     "execution_count": 27,
     "metadata": {},
     "output_type": "execute_result"
    }
   ],
   "source": [
    "a3[::-1,] #Satıra göre ters çevrilmiş"
   ]
  },
  {
   "cell_type": "code",
   "execution_count": 28,
   "id": "e7a980b8",
   "metadata": {},
   "outputs": [
    {
     "data": {
      "text/plain": [
       "array([[ 1,  8,  2,  3],\n",
       "       [67, 10, 50, 70],\n",
       "       [15, 75, 25, 45],\n",
       "       [ 4, 77,  9, 12]])"
      ]
     },
     "execution_count": 28,
     "metadata": {},
     "output_type": "execute_result"
    }
   ],
   "source": [
    "a3[:,::-1]"
   ]
  },
  {
   "cell_type": "code",
   "execution_count": 29,
   "id": "865b3df5",
   "metadata": {},
   "outputs": [
    {
     "data": {
      "text/plain": [
       "array([[ 4, 77,  9, 12],\n",
       "       [15, 75, 25, 45],\n",
       "       [67, 10, 50, 70],\n",
       "       [ 1,  8,  2,  3]])"
      ]
     },
     "execution_count": 29,
     "metadata": {},
     "output_type": "execute_result"
    }
   ],
   "source": [
    "a3[::-1, ::-1]"
   ]
  },
  {
   "cell_type": "code",
   "execution_count": 30,
   "id": "89c98a05",
   "metadata": {},
   "outputs": [],
   "source": [
    "#Dizileri Sıralamak"
   ]
  },
  {
   "cell_type": "code",
   "execution_count": 31,
   "id": "071e1614",
   "metadata": {},
   "outputs": [],
   "source": [
    "a = np.array([10,5,2,22,12,92,17,33])"
   ]
  },
  {
   "cell_type": "code",
   "execution_count": 33,
   "id": "72c42c69",
   "metadata": {},
   "outputs": [
    {
     "data": {
      "text/plain": [
       "array([ 2,  5, 10, 12, 17, 22, 33, 92])"
      ]
     },
     "execution_count": 33,
     "metadata": {},
     "output_type": "execute_result"
    }
   ],
   "source": [
    "np.sort(a) #Küçükten büyüğe sıralama"
   ]
  },
  {
   "cell_type": "code",
   "execution_count": 34,
   "id": "ee419eb2",
   "metadata": {},
   "outputs": [
    {
     "data": {
      "text/plain": [
       "array([[ 3,  2,  8,  1],\n",
       "       [70, 50, 10, 67],\n",
       "       [45, 25, 75, 15]])"
      ]
     },
     "execution_count": 34,
     "metadata": {},
     "output_type": "execute_result"
    }
   ],
   "source": [
    "a3 = np.array([[3,2,8,1], [70,50,10,67], [45,25,75,15]])\n",
    "a3"
   ]
  },
  {
   "cell_type": "code",
   "execution_count": 35,
   "id": "efd4b072",
   "metadata": {},
   "outputs": [
    {
     "data": {
      "text/plain": [
       "array([[ 1,  2,  3,  8],\n",
       "       [10, 50, 67, 70],\n",
       "       [15, 25, 45, 75]])"
      ]
     },
     "execution_count": 35,
     "metadata": {},
     "output_type": "execute_result"
    }
   ],
   "source": [
    "np.sort(a3)"
   ]
  },
  {
   "cell_type": "code",
   "execution_count": 36,
   "id": "4e958c11",
   "metadata": {},
   "outputs": [
    {
     "data": {
      "text/plain": [
       "array([[ 1,  2,  3,  8],\n",
       "       [10, 50, 67, 70],\n",
       "       [15, 25, 45, 75]])"
      ]
     },
     "execution_count": 36,
     "metadata": {},
     "output_type": "execute_result"
    }
   ],
   "source": [
    "np.sort(a3, axis = 1)"
   ]
  },
  {
   "cell_type": "code",
   "execution_count": 37,
   "id": "81f2aa9b",
   "metadata": {},
   "outputs": [
    {
     "data": {
      "text/plain": [
       "array([[ 3,  2,  8,  1],\n",
       "       [45, 25, 10, 15],\n",
       "       [70, 50, 75, 67]])"
      ]
     },
     "execution_count": 37,
     "metadata": {},
     "output_type": "execute_result"
    }
   ],
   "source": [
    "np.sort(a3, axis = 0)"
   ]
  },
  {
   "cell_type": "code",
   "execution_count": 38,
   "id": "c8b6a1a4",
   "metadata": {},
   "outputs": [],
   "source": [
    "#Büyükten küçüğe sıralama"
   ]
  },
  {
   "cell_type": "code",
   "execution_count": 39,
   "id": "236e9eec",
   "metadata": {},
   "outputs": [
    {
     "data": {
      "text/plain": [
       "array([92, 33, 22, 17, 12, 10,  5,  2])"
      ]
     },
     "execution_count": 39,
     "metadata": {},
     "output_type": "execute_result"
    }
   ],
   "source": [
    "b = np.sort(a)\n",
    "b = b[::-1]\n",
    "b"
   ]
  },
  {
   "cell_type": "code",
   "execution_count": 40,
   "id": "d4f41c4f",
   "metadata": {},
   "outputs": [
    {
     "data": {
      "text/plain": [
       "array([92, 33, 22, 17, 12, 10,  5,  2])"
      ]
     },
     "execution_count": 40,
     "metadata": {},
     "output_type": "execute_result"
    }
   ],
   "source": [
    "c = np.sort(a)\n",
    "np.flip(c)"
   ]
  },
  {
   "cell_type": "code",
   "execution_count": 42,
   "id": "2dd9960c",
   "metadata": {},
   "outputs": [
    {
     "data": {
      "text/plain": [
       "array([92, 33, 22, 17, 12, 10,  5,  2])"
      ]
     },
     "execution_count": 42,
     "metadata": {},
     "output_type": "execute_result"
    }
   ],
   "source": [
    "a[::-1].sort()\n",
    "a"
   ]
  },
  {
   "cell_type": "code",
   "execution_count": 43,
   "id": "610bf0f0",
   "metadata": {},
   "outputs": [],
   "source": [
    "#Bir Dizi İçerisindeki N Adet En büyük / En küçük elemanı bulma"
   ]
  },
  {
   "cell_type": "code",
   "execution_count": 44,
   "id": "c3ae2821",
   "metadata": {},
   "outputs": [
    {
     "data": {
      "text/plain": [
       "array([ 0,  1,  2,  3,  4,  5,  6,  7,  8,  9, 10, 11, 12, 13, 14, 15, 16,\n",
       "       17, 18, 19, 20, 21, 22, 23, 24, 25, 26, 27, 28, 29, 30, 31, 32, 33,\n",
       "       34, 35, 36, 37, 38, 39, 40, 41, 42, 43, 44, 45, 46, 47, 48, 49])"
      ]
     },
     "execution_count": 44,
     "metadata": {},
     "output_type": "execute_result"
    }
   ],
   "source": [
    "p = np.arange(0, 50)\n",
    "p"
   ]
  },
  {
   "cell_type": "code",
   "execution_count": 45,
   "id": "e42ba55e",
   "metadata": {},
   "outputs": [
    {
     "data": {
      "text/plain": [
       "array([18, 48, 46,  4,  6, 32, 10, 19,  0, 31,  5,  7, 39, 13, 38, 42, 49,\n",
       "        9, 12, 47, 24, 21, 40, 45, 25, 33, 16, 23, 35, 37, 34, 30, 28,  8,\n",
       "       20, 41,  1, 36,  2, 11, 44, 26,  3, 29, 27, 43, 14, 22, 17, 15])"
      ]
     },
     "execution_count": 45,
     "metadata": {},
     "output_type": "execute_result"
    }
   ],
   "source": [
    "np.random.shuffle(p)\n",
    "p"
   ]
  },
  {
   "cell_type": "code",
   "execution_count": 46,
   "id": "a7b84012",
   "metadata": {},
   "outputs": [
    {
     "data": {
      "text/plain": [
       "array([46, 47, 48, 49])"
      ]
     },
     "execution_count": 46,
     "metadata": {},
     "output_type": "execute_result"
    }
   ],
   "source": [
    "n = 4\n",
    "p[np.argsort(p)[-4:]]"
   ]
  },
  {
   "cell_type": "code",
   "execution_count": 47,
   "id": "cbd48447",
   "metadata": {},
   "outputs": [
    {
     "data": {
      "text/plain": [
       "array([48, 49, 46, 47])"
      ]
     },
     "execution_count": 47,
     "metadata": {},
     "output_type": "execute_result"
    }
   ],
   "source": [
    "p[np.argpartition(-p, n)[:n]]"
   ]
  },
  {
   "cell_type": "code",
   "execution_count": 48,
   "id": "8fbcd02d",
   "metadata": {},
   "outputs": [
    {
     "data": {
      "text/plain": [
       "array([3, 2, 1, 0])"
      ]
     },
     "execution_count": 48,
     "metadata": {},
     "output_type": "execute_result"
    }
   ],
   "source": [
    "n = 4\n",
    "p[np.argsort(-p)[-4:]]"
   ]
  },
  {
   "cell_type": "code",
   "execution_count": 49,
   "id": "20b58b49",
   "metadata": {},
   "outputs": [
    {
     "data": {
      "text/plain": [
       "array([0, 1, 2, 3])"
      ]
     },
     "execution_count": 49,
     "metadata": {},
     "output_type": "execute_result"
    }
   ],
   "source": [
    "p[np.argpartition(p, n)[:n]]"
   ]
  },
  {
   "cell_type": "code",
   "execution_count": 50,
   "id": "d0194e5c",
   "metadata": {},
   "outputs": [],
   "source": [
    "#Dizideki sık elemanları bulma"
   ]
  },
  {
   "cell_type": "code",
   "execution_count": 51,
   "id": "b193374f",
   "metadata": {},
   "outputs": [
    {
     "data": {
      "text/plain": [
       "array([10, 20, 30])"
      ]
     },
     "execution_count": 51,
     "metadata": {},
     "output_type": "execute_result"
    }
   ],
   "source": [
    "b = np.array([10,10,10,20,30,20,30,30,20,10,10,30,10])\n",
    "np.unique(b)"
   ]
  },
  {
   "cell_type": "code",
   "execution_count": 52,
   "id": "6dc5a677",
   "metadata": {},
   "outputs": [
    {
     "data": {
      "text/plain": [
       "(array([10, 20, 30]), array([6, 3, 4], dtype=int64))"
      ]
     },
     "execution_count": 52,
     "metadata": {},
     "output_type": "execute_result"
    }
   ],
   "source": [
    "val, count = np.unique(b, return_counts = True)\n",
    "val, count"
   ]
  },
  {
   "cell_type": "code",
   "execution_count": 53,
   "id": "22fd843c",
   "metadata": {},
   "outputs": [
    {
     "data": {
      "text/plain": [
       "10"
      ]
     },
     "execution_count": 53,
     "metadata": {},
     "output_type": "execute_result"
    }
   ],
   "source": [
    "np.bincount(b).argmax()"
   ]
  },
  {
   "cell_type": "code",
   "execution_count": 54,
   "id": "76a9a195",
   "metadata": {},
   "outputs": [],
   "source": [
    "#Yükleme ve Kaydetme İşlemleri"
   ]
  },
  {
   "cell_type": "code",
   "execution_count": 55,
   "id": "c29ba4bd",
   "metadata": {},
   "outputs": [
    {
     "data": {
      "text/plain": [
       "array([[24, 29, 88],\n",
       "       [ 1,  0,  8],\n",
       "       [33,  7, 99],\n",
       "       [39, 11, 98],\n",
       "       [22, 76, 87]])"
      ]
     },
     "execution_count": 55,
     "metadata": {},
     "output_type": "execute_result"
    }
   ],
   "source": [
    "p4 = np.loadtxt('mydata/sample.txt', dtype = np.integer)\n",
    "p4"
   ]
  },
  {
   "cell_type": "code",
   "execution_count": 56,
   "id": "77419268",
   "metadata": {},
   "outputs": [
    {
     "data": {
      "text/plain": [
       "array([['Dogu', 'Turkey', 'Football'],\n",
       "       ['John', 'USA', 'Hockey'],\n",
       "       ['Paul', 'Canada', 'Basketball']], dtype='<U10')"
      ]
     },
     "execution_count": 56,
     "metadata": {},
     "output_type": "execute_result"
    }
   ],
   "source": [
    "p5 = np.genfromtxt('mydata/sample0.txt', dtype = str)\n",
    "p5"
   ]
  },
  {
   "cell_type": "code",
   "execution_count": 57,
   "id": "10cddcde",
   "metadata": {},
   "outputs": [
    {
     "data": {
      "text/plain": [
       "array(['Dogu', 'Turkey', 'Football'], dtype='<U10')"
      ]
     },
     "execution_count": 57,
     "metadata": {},
     "output_type": "execute_result"
    }
   ],
   "source": [
    "p5[0]"
   ]
  },
  {
   "cell_type": "code",
   "execution_count": 58,
   "id": "442369e3",
   "metadata": {},
   "outputs": [
    {
     "data": {
      "text/plain": [
       "array(['Dogu', 'John', 'Paul'], dtype='<U10')"
      ]
     },
     "execution_count": 58,
     "metadata": {},
     "output_type": "execute_result"
    }
   ],
   "source": [
    "p5[:, 0]"
   ]
  },
  {
   "cell_type": "code",
   "execution_count": 59,
   "id": "959311f9",
   "metadata": {},
   "outputs": [
    {
     "data": {
      "text/plain": [
       "array([[24., 88.],\n",
       "       [ 1.,  8.],\n",
       "       [33., 99.],\n",
       "       [39., 98.],\n",
       "       [22., 87.]])"
      ]
     },
     "execution_count": 59,
     "metadata": {},
     "output_type": "execute_result"
    }
   ],
   "source": [
    "np.loadtxt('mydata/sample.txt', delimiter=' ', usecols=(0,2))"
   ]
  },
  {
   "cell_type": "code",
   "execution_count": 60,
   "id": "e8c65dcc",
   "metadata": {},
   "outputs": [
    {
     "data": {
      "text/plain": [
       "array([ 10,  21,  32,  43,  54,  65,  76,  87,  98, 109, 120, 131, 142,\n",
       "       153, 164, 175, 186, 197])"
      ]
     },
     "execution_count": 60,
     "metadata": {},
     "output_type": "execute_result"
    }
   ],
   "source": [
    "#Kaydetme\n",
    "p7 = np.arange(10, 200, 11)\n",
    "p7"
   ]
  },
  {
   "cell_type": "code",
   "execution_count": 61,
   "id": "2507e251",
   "metadata": {},
   "outputs": [],
   "source": [
    "np.savetxt('1505-vbu.csv', p7, delimiter=',')"
   ]
  },
  {
   "cell_type": "code",
   "execution_count": 62,
   "id": "936d27b2",
   "metadata": {},
   "outputs": [
    {
     "data": {
      "text/plain": [
       "array([[  0,   1,   2,   3,   4,   5,   6,   7,   8,   9,  10],\n",
       "       [ 11,  12,  13,  14,  15,  16,  17,  18,  19,  20,  21],\n",
       "       [ 22,  23,  24,  25,  26,  27,  28,  29,  30,  31,  32],\n",
       "       [ 33,  34,  35,  36,  37,  38,  39,  40,  41,  42,  43],\n",
       "       [ 44,  45,  46,  47,  48,  49,  50,  51,  52,  53,  54],\n",
       "       [ 55,  56,  57,  58,  59,  60,  61,  62,  63,  64,  65],\n",
       "       [ 66,  67,  68,  69,  70,  71,  72,  73,  74,  75,  76],\n",
       "       [ 77,  78,  79,  80,  81,  82,  83,  84,  85,  86,  87],\n",
       "       [ 88,  89,  90,  91,  92,  93,  94,  95,  96,  97,  98],\n",
       "       [ 99, 100, 101, 102, 103, 104, 105, 106, 107, 108, 109],\n",
       "       [110, 111, 112, 113, 114, 115, 116, 117, 118, 119, 120]])"
      ]
     },
     "execution_count": 62,
     "metadata": {},
     "output_type": "execute_result"
    }
   ],
   "source": [
    "p8 = np.arange(0,121).reshape(11, 11)\n",
    "p8"
   ]
  },
  {
   "cell_type": "code",
   "execution_count": 63,
   "id": "a4a4db88",
   "metadata": {},
   "outputs": [],
   "source": [
    "np.save('1505-vbu-test.npy', p8)"
   ]
  },
  {
   "cell_type": "code",
   "execution_count": 64,
   "id": "f9e856b3",
   "metadata": {},
   "outputs": [
    {
     "data": {
      "text/plain": [
       "array([[  0,   1,   2,   3,   4,   5,   6,   7,   8,   9,  10],\n",
       "       [ 11,  12,  13,  14,  15,  16,  17,  18,  19,  20,  21],\n",
       "       [ 22,  23,  24,  25,  26,  27,  28,  29,  30,  31,  32],\n",
       "       [ 33,  34,  35,  36,  37,  38,  39,  40,  41,  42,  43],\n",
       "       [ 44,  45,  46,  47,  48,  49,  50,  51,  52,  53,  54],\n",
       "       [ 55,  56,  57,  58,  59,  60,  61,  62,  63,  64,  65],\n",
       "       [ 66,  67,  68,  69,  70,  71,  72,  73,  74,  75,  76],\n",
       "       [ 77,  78,  79,  80,  81,  82,  83,  84,  85,  86,  87],\n",
       "       [ 88,  89,  90,  91,  92,  93,  94,  95,  96,  97,  98],\n",
       "       [ 99, 100, 101, 102, 103, 104, 105, 106, 107, 108, 109],\n",
       "       [110, 111, 112, 113, 114, 115, 116, 117, 118, 119, 120]])"
      ]
     },
     "execution_count": 64,
     "metadata": {},
     "output_type": "execute_result"
    }
   ],
   "source": [
    "p9 = np.load('1505-vbu-test.npy')\n",
    "p9"
   ]
  },
  {
   "cell_type": "code",
   "execution_count": 65,
   "id": "36c59edd",
   "metadata": {},
   "outputs": [],
   "source": [
    "np.save('1505-numpyfile', p8) #Farklı Kaydet"
   ]
  },
  {
   "cell_type": "code",
   "execution_count": 66,
   "id": "a65d679f",
   "metadata": {},
   "outputs": [
    {
     "data": {
      "text/plain": [
       "array([[  0,   1,   2,   3,   4,   5,   6,   7,   8,   9,  10],\n",
       "       [ 11,  12,  13,  14,  15,  16,  17,  18,  19,  20,  21],\n",
       "       [ 22,  23,  24,  25,  26,  27,  28,  29,  30,  31,  32],\n",
       "       [ 33,  34,  35,  36,  37,  38,  39,  40,  41,  42,  43],\n",
       "       [ 44,  45,  46,  47,  48,  49,  50,  51,  52,  53,  54],\n",
       "       [ 55,  56,  57,  58,  59,  60,  61,  62,  63,  64,  65],\n",
       "       [ 66,  67,  68,  69,  70,  71,  72,  73,  74,  75,  76],\n",
       "       [ 77,  78,  79,  80,  81,  82,  83,  84,  85,  86,  87],\n",
       "       [ 88,  89,  90,  91,  92,  93,  94,  95,  96,  97,  98],\n",
       "       [ 99, 100, 101, 102, 103, 104, 105, 106, 107, 108, 109],\n",
       "       [110, 111, 112, 113, 114, 115, 116, 117, 118, 119, 120]])"
      ]
     },
     "execution_count": 66,
     "metadata": {},
     "output_type": "execute_result"
    }
   ],
   "source": [
    "p10 = np.load('1505-numpyfile.npy')\n",
    "p10"
   ]
  },
  {
   "cell_type": "code",
   "execution_count": 67,
   "id": "02f679cc",
   "metadata": {},
   "outputs": [
    {
     "data": {
      "text/plain": [
       "array([[     0,      1,      2, ...,    997,    998,    999],\n",
       "       [  1000,   1001,   1002, ...,   1997,   1998,   1999],\n",
       "       [  2000,   2001,   2002, ...,   2997,   2998,   2999],\n",
       "       ...,\n",
       "       [997000, 997001, 997002, ..., 997997, 997998, 997999],\n",
       "       [998000, 998001, 998002, ..., 998997, 998998, 998999],\n",
       "       [999000, 999001, 999002, ..., 999997, 999998, 999999]])"
      ]
     },
     "execution_count": 67,
     "metadata": {},
     "output_type": "execute_result"
    }
   ],
   "source": [
    "p11 = np.arange(0, 1000000).reshape(1000, 1000)\n",
    "p11"
   ]
  },
  {
   "cell_type": "code",
   "execution_count": 68,
   "id": "710f6640",
   "metadata": {},
   "outputs": [],
   "source": [
    "np.savez_compressed('1505-mytest1', p11)"
   ]
  },
  {
   "cell_type": "code",
   "execution_count": 69,
   "id": "f267866a",
   "metadata": {},
   "outputs": [],
   "source": [
    "np.save('1505-mytest2', p11)"
   ]
  },
  {
   "cell_type": "code",
   "execution_count": 70,
   "id": "4bf6e5c4",
   "metadata": {},
   "outputs": [],
   "source": [
    "from IPython.display import Image"
   ]
  },
  {
   "cell_type": "code",
   "execution_count": 71,
   "id": "024b1848",
   "metadata": {},
   "outputs": [
    {
     "data": {
      "image/png": "[encoded data removed]",
      "text/plain": [
       "<IPython.core.display.Image object>"
      ]
     },
     "execution_count": 71,
     "metadata": {},
     "output_type": "execute_result"
    }
   ],
   "source": [
    "Image(filename = '1505-load_save.PNG')"
   ]
  },
  {
   "cell_type": "code",
   "execution_count": 72,
   "id": "21482e2d",
   "metadata": {},
   "outputs": [],
   "source": [
    "#Printing Options"
   ]
  },
  {
   "cell_type": "code",
   "execution_count": 73,
   "id": "686cbc20",
   "metadata": {},
   "outputs": [
    {
     "data": {
      "text/plain": [
       "array([12.6544, 90.7864])"
      ]
     },
     "execution_count": 73,
     "metadata": {},
     "output_type": "execute_result"
    }
   ],
   "source": [
    "np.set_printoptions(precision = 4)\n",
    "a = np.array([12.654398765, 90.7864098354674])\n",
    "a"
   ]
  },
  {
   "cell_type": "code",
   "execution_count": 74,
   "id": "eded467f",
   "metadata": {},
   "outputs": [
    {
     "data": {
      "text/plain": [
       "array([12.65, 90.79])"
      ]
     },
     "execution_count": 74,
     "metadata": {},
     "output_type": "execute_result"
    }
   ],
   "source": [
    "np.set_printoptions(precision = 2)\n",
    "a = np.array([12.654398765, 90.7864098354674])\n",
    "a"
   ]
  },
  {
   "cell_type": "code",
   "execution_count": 75,
   "id": "8c96fee6",
   "metadata": {},
   "outputs": [],
   "source": [
    "#Array Summarization (Dizi Özetleme)"
   ]
  },
  {
   "cell_type": "code",
   "execution_count": 76,
   "id": "d6168d97",
   "metadata": {},
   "outputs": [
    {
     "data": {
      "text/plain": [
       "array([  0,   1,   2, ..., 197, 198, 199])"
      ]
     },
     "execution_count": 76,
     "metadata": {},
     "output_type": "execute_result"
    }
   ],
   "source": [
    "np.set_printoptions(threshold = 3)\n",
    "np.arange(200)"
   ]
  },
  {
   "cell_type": "code",
   "execution_count": 77,
   "id": "194075bf",
   "metadata": {},
   "outputs": [
    {
     "data": {
      "text/plain": [
       "array([12.65439876, 90.78640984])"
      ]
     },
     "execution_count": 77,
     "metadata": {},
     "output_type": "execute_result"
    }
   ],
   "source": [
    "np.set_printoptions(precision = 8, suppress = False, threshold = 1000, formatter = None)\n",
    "a = np.array([12.654398765, 90.7864098354674])\n",
    "a"
   ]
  },
  {
   "cell_type": "code",
   "execution_count": 78,
   "id": "cca54138",
   "metadata": {},
   "outputs": [],
   "source": [
    "#Numpy'da Vektör Toplama ve Çarpma İşlemlerine Bkz."
   ]
  },
  {
   "cell_type": "code",
   "execution_count": 79,
   "id": "33e49337",
   "metadata": {},
   "outputs": [],
   "source": [
    "#Noktasal Çarpım (Dot Product)"
   ]
  },
  {
   "cell_type": "code",
   "execution_count": 80,
   "id": "25bcd58b",
   "metadata": {},
   "outputs": [
    {
     "name": "stdout",
     "output_type": "stream",
     "text": [
      "Dot product -  32\n",
      "Dot product using np.dot -  32\n",
      "Dot product using np.inner -  32\n",
      "Dot product using sum & multiply -  32\n",
      "Dot product using matmul -  32\n",
      "Dot product using for loop :  32\n"
     ]
    }
   ],
   "source": [
    "a1 = np.array([1,2,3])\n",
    "a2 = np.array([4,5,6])\n",
    "\n",
    "dotp = a1@a2\n",
    "print(\"Dot product - \", dotp)\n",
    "\n",
    "dotp = np.dot(a1, a2)\n",
    "print(\"Dot product using np.dot - \", dotp)\n",
    "\n",
    "dotp = np.inner(a1, a2)\n",
    "print(\"Dot product using np.inner - \", dotp)\n",
    "\n",
    "dotp = sum(np.multiply(a1, a2))\n",
    "print(\"Dot product using sum & multiply - \", dotp)\n",
    "\n",
    "dotp = np.matmul(a1, a2)\n",
    "print(\"Dot product using matmul - \", dotp)\n",
    "\n",
    "dotp = 0\n",
    "for i in range(len(a1)):\n",
    "    dotp = dotp + a1[i]*a2[i]\n",
    "print(\"Dot product using for loop : \", dotp)"
   ]
  },
  {
   "cell_type": "code",
   "execution_count": 81,
   "id": "1c62b1c4",
   "metadata": {},
   "outputs": [],
   "source": [
    "#Length (Uzunluk)"
   ]
  },
  {
   "cell_type": "code",
   "execution_count": 82,
   "id": "18f09a87",
   "metadata": {},
   "outputs": [
    {
     "data": {
      "text/plain": [
       "9.539392014169456"
      ]
     },
     "execution_count": 82,
     "metadata": {},
     "output_type": "execute_result"
    }
   ],
   "source": [
    "v3 = np.array([1,2,3,4,5,6])\n",
    "length = np.sqrt(np.dot(v3,v3))\n",
    "length"
   ]
  },
  {
   "cell_type": "code",
   "execution_count": 84,
   "id": "9c28e658",
   "metadata": {},
   "outputs": [
    {
     "data": {
      "text/plain": [
       "9.539392014169456"
      ]
     },
     "execution_count": 84,
     "metadata": {},
     "output_type": "execute_result"
    }
   ],
   "source": [
    "v3 = np.array([1,2,3,4,5,6])\n",
    "length = np.sqrt(sum(np.multiply(v3, v3)))\n",
    "length"
   ]
  },
  {
   "cell_type": "code",
   "execution_count": 85,
   "id": "b71bdc50",
   "metadata": {},
   "outputs": [
    {
     "data": {
      "text/plain": [
       "(3.605551275463989, array([0.5547002 , 0.83205029]))"
      ]
     },
     "execution_count": 85,
     "metadata": {},
     "output_type": "execute_result"
    }
   ],
   "source": [
    "#Normalizasyon\n",
    "#1\n",
    "v1 = [2,3]\n",
    "length_v1 = np.sqrt(np.dot(v1,v1))\n",
    "norm_v1 = v1 / length_v1\n",
    "length_v1, norm_v1"
   ]
  },
  {
   "cell_type": "code",
   "execution_count": 86,
   "id": "64cc0f45",
   "metadata": {},
   "outputs": [
    {
     "data": {
      "text/plain": [
       "array([0.5547002 , 0.83205029])"
      ]
     },
     "execution_count": 86,
     "metadata": {},
     "output_type": "execute_result"
    }
   ],
   "source": [
    "#2\n",
    "v1 = [2,3]\n",
    "norm_v1 = v1 / np.linalg.norm(v1)\n",
    "norm_v1"
   ]
  },
  {
   "cell_type": "code",
   "execution_count": 87,
   "id": "5e72cb71",
   "metadata": {},
   "outputs": [],
   "source": [
    "#Matris Oluşturma"
   ]
  },
  {
   "cell_type": "code",
   "execution_count": 88,
   "id": "e56ade77",
   "metadata": {},
   "outputs": [
    {
     "data": {
      "text/plain": [
       "array([[1., 1., 1., 1., 1.],\n",
       "       [1., 1., 1., 1., 1.],\n",
       "       [1., 1., 1., 1., 1.],\n",
       "       [1., 1., 1., 1., 1.],\n",
       "       [1., 1., 1., 1., 1.]])"
      ]
     },
     "execution_count": 88,
     "metadata": {},
     "output_type": "execute_result"
    }
   ],
   "source": [
    "np.ones((5,5))"
   ]
  },
  {
   "cell_type": "code",
   "execution_count": 89,
   "id": "cec90aee",
   "metadata": {},
   "outputs": [
    {
     "data": {
      "text/plain": [
       "array([[447, 112, 152, 333, 114, 227,  98,   8, 458, 324],\n",
       "       [120, 403, 225,  21, 225,  67, 232,  43, 202, 128],\n",
       "       [400, 174, 314, 155, 400, 473, 450, 278,  71, 385],\n",
       "       [184, 492, 456,  11, 474,  27, 426, 187, 154, 436],\n",
       "       [ 73, 403, 366, 465, 246, 427, 325, 255, 118, 314],\n",
       "       [305, 361, 322, 306, 263, 218,  23, 492, 345, 223],\n",
       "       [232, 128,  29, 465, 213, 245, 315,  26, 348, 288],\n",
       "       [312, 349, 344, 234, 409,  35, 159, 377,  62,  10],\n",
       "       [118,  93, 100, 379,  70, 129, 139, 291,  73, 322],\n",
       "       [215, 142, 292, 340, 410, 188, 487, 185, 393, 168]])"
      ]
     },
     "execution_count": 89,
     "metadata": {},
     "output_type": "execute_result"
    }
   ],
   "source": [
    "np.random.randint(0, 500, (10,10))"
   ]
  },
  {
   "cell_type": "code",
   "execution_count": 90,
   "id": "af97b81b",
   "metadata": {},
   "outputs": [
    {
     "data": {
      "text/plain": [
       "array([[270, 263, 688,  44, 207, 998, 796, 507, 884, 265],\n",
       "       [493, 891, 709, 331, 336,  71, 456, 535, 996, 149],\n",
       "       [726, 525, 873, 264, 654, 109, 556, 403, 660, 330],\n",
       "       [830, 831, 519, 176, 616,  74, 536, 164, 431,  76],\n",
       "       [692, 386, 225, 393, 350, 922, 549, 909, 326, 654],\n",
       "       [590, 291,  40, 257,  23, 876, 182, 241,  91, 136],\n",
       "       [727, 591, 884, 954, 993, 394, 421, 584, 774, 141],\n",
       "       [461, 205, 766, 167, 220, 196, 167, 998, 532, 665],\n",
       "       [635, 962, 546, 458, 716, 963, 280, 915, 778, 623],\n",
       "       [548, 123, 600, 371, 986, 163, 407, 533,  12, 347]])"
      ]
     },
     "execution_count": 90,
     "metadata": {},
     "output_type": "execute_result"
    }
   ],
   "source": [
    "mat1 = np.random.randint(0, 1000, 100).reshape(10,10)\n",
    "mat1"
   ]
  },
  {
   "cell_type": "code",
   "execution_count": 91,
   "id": "e1ac0282",
   "metadata": {},
   "outputs": [
    {
     "data": {
      "text/plain": [
       "270"
      ]
     },
     "execution_count": 91,
     "metadata": {},
     "output_type": "execute_result"
    }
   ],
   "source": [
    "mat1[0,0]"
   ]
  },
  {
   "cell_type": "code",
   "execution_count": 93,
   "id": "a0f3422b",
   "metadata": {},
   "outputs": [
    {
     "data": {
      "text/plain": [
       "array([998, 996, 922, 909, 954, 993, 998, 962, 963, 915, 986])"
      ]
     },
     "execution_count": 93,
     "metadata": {},
     "output_type": "execute_result"
    }
   ],
   "source": [
    "mat1[mat1 > 900]"
   ]
  },
  {
   "cell_type": "code",
   "execution_count": 94,
   "id": "cf7099ed",
   "metadata": {},
   "outputs": [],
   "source": [
    "#Birim Matris"
   ]
  },
  {
   "cell_type": "code",
   "execution_count": 95,
   "id": "95e51395",
   "metadata": {},
   "outputs": [
    {
     "data": {
      "text/plain": [
       "array([[1., 0., 0., 0., 0., 0., 0., 0., 0.],\n",
       "       [0., 1., 0., 0., 0., 0., 0., 0., 0.],\n",
       "       [0., 0., 1., 0., 0., 0., 0., 0., 0.],\n",
       "       [0., 0., 0., 1., 0., 0., 0., 0., 0.],\n",
       "       [0., 0., 0., 0., 1., 0., 0., 0., 0.],\n",
       "       [0., 0., 0., 0., 0., 1., 0., 0., 0.],\n",
       "       [0., 0., 0., 0., 0., 0., 1., 0., 0.],\n",
       "       [0., 0., 0., 0., 0., 0., 0., 1., 0.],\n",
       "       [0., 0., 0., 0., 0., 0., 0., 0., 1.]])"
      ]
     },
     "execution_count": 95,
     "metadata": {},
     "output_type": "execute_result"
    }
   ],
   "source": [
    "I = np.eye(9)\n",
    "I"
   ]
  },
  {
   "cell_type": "code",
   "execution_count": 96,
   "id": "7141d55a",
   "metadata": {},
   "outputs": [],
   "source": [
    "#Diagonal Matris"
   ]
  },
  {
   "cell_type": "code",
   "execution_count": 97,
   "id": "6216a5f4",
   "metadata": {},
   "outputs": [
    {
     "data": {
      "text/plain": [
       "array([[1, 0, 0, 0, 0, 0, 0, 0],\n",
       "       [0, 2, 0, 0, 0, 0, 0, 0],\n",
       "       [0, 0, 3, 0, 0, 0, 0, 0],\n",
       "       [0, 0, 0, 4, 0, 0, 0, 0],\n",
       "       [0, 0, 0, 0, 5, 0, 0, 0],\n",
       "       [0, 0, 0, 0, 0, 6, 0, 0],\n",
       "       [0, 0, 0, 0, 0, 0, 7, 0],\n",
       "       [0, 0, 0, 0, 0, 0, 0, 8]])"
      ]
     },
     "execution_count": 97,
     "metadata": {},
     "output_type": "execute_result"
    }
   ],
   "source": [
    "D = np.diag([1,2,3,4,5,6,7,8])\n",
    "D"
   ]
  },
  {
   "cell_type": "code",
   "execution_count": 98,
   "id": "ca1f5f03",
   "metadata": {},
   "outputs": [
    {
     "data": {
      "text/plain": [
       "array([[ 1.25545964,  1.04183091,  1.14218311, -1.33151956, -0.99591852],\n",
       "       [-0.50267174,  0.52831873, -1.45836328,  1.01280423,  0.51893394],\n",
       "       [ 0.76423918, -0.35918572,  1.58258629, -1.48004866,  1.46443225],\n",
       "       [-0.20672625, -0.09970153,  0.48745238, -1.54124289, -1.21832008],\n",
       "       [ 0.19863109, -1.04930719, -0.87406509, -1.1646502 , -1.68113201]])"
      ]
     },
     "execution_count": 98,
     "metadata": {},
     "output_type": "execute_result"
    }
   ],
   "source": [
    "M = np.random.randn(5, 5)\n",
    "M"
   ]
  },
  {
   "cell_type": "code",
   "execution_count": 101,
   "id": "747ef5f5",
   "metadata": {},
   "outputs": [
    {
     "name": "stdout",
     "output_type": "stream",
     "text": [
      "Lower TM\n",
      " [[ 1.25545964  0.          0.          0.          0.        ]\n",
      " [-0.50267174  0.52831873  0.          0.          0.        ]\n",
      " [ 0.76423918 -0.35918572  1.58258629  0.          0.        ]\n",
      " [-0.20672625 -0.09970153  0.48745238 -1.54124289  0.        ]\n",
      " [ 0.19863109 -1.04930719 -0.87406509 -1.1646502  -1.68113201]]\n",
      "\n",
      "\n",
      "Upper TM\n",
      " [[ 1.25545964  1.04183091  1.14218311 -1.33151956 -0.99591852]\n",
      " [ 0.          0.52831873 -1.45836328  1.01280423  0.51893394]\n",
      " [ 0.          0.          1.58258629 -1.48004866  1.46443225]\n",
      " [ 0.          0.          0.         -1.54124289 -1.21832008]\n",
      " [ 0.          0.          0.          0.         -1.68113201]]\n"
     ]
    }
   ],
   "source": [
    "U = np.triu(M) #upper (üst) üçgen matris\n",
    "L = np.tril(M) #lower (alt) üçgen matris\n",
    "print(\"Lower TM\\n\", L)\n",
    "print('\\n')\n",
    "print(\"Upper TM\\n\", U)"
   ]
  },
  {
   "cell_type": "code",
   "execution_count": 103,
   "id": "e0fc85d3",
   "metadata": {},
   "outputs": [
    {
     "data": {
      "text/plain": [
       "array([[ 1,  2,  3,  4],\n",
       "       [ 5,  6,  7,  8],\n",
       "       [ 9, 10, 11, 12],\n",
       "       [13, 14, 15, 16]])"
      ]
     },
     "execution_count": 103,
     "metadata": {},
     "output_type": "execute_result"
    }
   ],
   "source": [
    "A = np.arange(1,17).reshape(4,4)\n",
    "A"
   ]
  },
  {
   "cell_type": "code",
   "execution_count": 104,
   "id": "a4e75593",
   "metadata": {},
   "outputs": [
    {
     "data": {
      "text/plain": [
       "array([ 1,  2,  3,  4,  5,  6,  7,  8,  9, 10, 11, 12, 13, 14, 15, 16])"
      ]
     },
     "execution_count": 104,
     "metadata": {},
     "output_type": "execute_result"
    }
   ],
   "source": [
    "A.flatten()"
   ]
  },
  {
   "cell_type": "code",
   "execution_count": 105,
   "id": "6d8dec35",
   "metadata": {},
   "outputs": [
    {
     "data": {
      "text/plain": [
       "array([ 1,  2,  3,  4,  5,  6,  7,  8,  9, 10, 11, 12, 13, 14, 15, 16])"
      ]
     },
     "execution_count": 105,
     "metadata": {},
     "output_type": "execute_result"
    }
   ],
   "source": [
    "A.ravel()"
   ]
  },
  {
   "cell_type": "code",
   "execution_count": 106,
   "id": "bd0d6a7b",
   "metadata": {},
   "outputs": [],
   "source": [
    "#Satır, sütun swap"
   ]
  },
  {
   "cell_type": "code",
   "execution_count": 107,
   "id": "c2919f76",
   "metadata": {},
   "outputs": [
    {
     "data": {
      "text/plain": [
       "array([[ 5,  6,  7,  8],\n",
       "       [ 1,  2,  3,  4],\n",
       "       [ 9, 10, 11, 12],\n",
       "       [13, 14, 15, 16]])"
      ]
     },
     "execution_count": 107,
     "metadata": {},
     "output_type": "execute_result"
    }
   ],
   "source": [
    "A[[0, 1]] = A[[1,0]]\n",
    "A"
   ]
  },
  {
   "cell_type": "code",
   "execution_count": 108,
   "id": "744fc754",
   "metadata": {},
   "outputs": [
    {
     "data": {
      "text/plain": [
       "array([[ 0,  1,  2,  3,  4,  5],\n",
       "       [ 6,  7,  8,  9, 10, 11],\n",
       "       [12, 13, 14, 15, 16, 17],\n",
       "       [18, 19, 20, 21, 22, 23],\n",
       "       [24, 25, 26, 27, 28, 29],\n",
       "       [30, 31, 32, 33, 34, 35]])"
      ]
     },
     "execution_count": 108,
     "metadata": {},
     "output_type": "execute_result"
    }
   ],
   "source": [
    "m2 = np.arange(0,36).reshape(6,6)\n",
    "m2"
   ]
  },
  {
   "cell_type": "code",
   "execution_count": 109,
   "id": "c82c6acc",
   "metadata": {},
   "outputs": [
    {
     "data": {
      "text/plain": [
       "array([[ 1,  0,  2,  3,  4,  5],\n",
       "       [ 7,  6,  8,  9, 10, 11],\n",
       "       [13, 12, 14, 15, 16, 17],\n",
       "       [19, 18, 20, 21, 22, 23],\n",
       "       [25, 24, 26, 27, 28, 29],\n",
       "       [31, 30, 32, 33, 34, 35]])"
      ]
     },
     "execution_count": 109,
     "metadata": {},
     "output_type": "execute_result"
    }
   ],
   "source": [
    "m2[:,[0,1]] = m2[:, [1,0]]\n",
    "m2"
   ]
  },
  {
   "cell_type": "code",
   "execution_count": null,
   "id": "ad57ac09",
   "metadata": {},
   "outputs": [],
   "source": [
    "#Matris Toplama, Çıkarma, Çarpma, Bölme inceleyiniz. "
   ]
  },
  {
   "cell_type": "code",
   "execution_count": 113,
   "id": "3c3427c5",
   "metadata": {},
   "outputs": [
    {
     "name": "stdout",
     "output_type": "stream",
     "text": [
      "\n",
      " Matrix M ==> \n",
      " [[ 1  2  3]\n",
      " [ 4 -3  6]\n",
      " [ 7  8  0]]\n",
      "\n",
      "Transpose of M ==>\n",
      " [[ 1  4  7]\n",
      " [ 2 -3  8]\n",
      " [ 3  6  0]]\n",
      "\n",
      "Transpose of M ==>\n",
      " [[ 1  4  7]\n",
      " [ 2 -3  8]\n",
      " [ 3  6  0]]\n"
     ]
    }
   ],
   "source": [
    "M = np.array([[1,2,3], [4,-3,6], [7,8,0]])\n",
    "\n",
    "print(\"\\n Matrix M ==> \\n\", M)\n",
    "\n",
    "print(\"\\nTranspose of M ==>\\n\", np.transpose(M))\n",
    "\n",
    "#VEYA\n",
    "\n",
    "print(\"\\nTranspose of M ==>\\n\", M.T)"
   ]
  },
  {
   "cell_type": "code",
   "execution_count": 114,
   "id": "8a22381e",
   "metadata": {},
   "outputs": [
    {
     "name": "stdout",
     "output_type": "stream",
     "text": [
      "\n",
      " Matrix M ==> \n",
      " [[ 1  2  3]\n",
      " [ 4 -3  6]\n",
      " [ 7  8  0]]\n",
      "\n",
      "Determinant of M ==>  195.0\n"
     ]
    }
   ],
   "source": [
    "M = np.array([[1,2,3], [4,-3,6], [7,8,0]])\n",
    "\n",
    "print(\"\\n Matrix M ==> \\n\", M)\n",
    "\n",
    "print(\"\\nDeterminant of M ==> \", np.linalg.det(M))"
   ]
  },
  {
   "cell_type": "code",
   "execution_count": null,
   "id": "a8af70c5",
   "metadata": {},
   "outputs": [],
   "source": []
  }
 ],
 "metadata": {
  "kernelspec": {
   "display_name": "Python 3",
   "language": "python",
   "name": "python3"
  },
  "language_info": {
   "codemirror_mode": {
    "name": "ipython",
    "version": 3
   },
   "file_extension": ".py",
   "mimetype": "text/x-python",
   "name": "python",
   "nbconvert_exporter": "python",
   "pygments_lexer": "ipython3",
   "version": "3.8.8"
  }
 },
 "nbformat": 4,
 "nbformat_minor": 5
}
